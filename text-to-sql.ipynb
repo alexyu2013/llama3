{
 "cells": [
  {
   "cell_type": "code",
   "execution_count": 7,
   "id": "761528b3-352b-4711-901c-4d867a11d8df",
   "metadata": {},
   "outputs": [],
   "source": [
    "from langchain_community.llms import Ollama\n",
    "llm = Ollama(model = \"llama3\")"
   ]
  },
  {
   "cell_type": "code",
   "execution_count": 8,
   "id": "9123116a-9c41-4a4c-9688-0af512faf350",
   "metadata": {},
   "outputs": [],
   "source": [
    "from langchain_community.utilities import SQLDatabase\n",
    "from langchain.chains import create_sql_query_chain"
   ]
  },
  {
   "cell_type": "code",
   "execution_count": 15,
   "id": "6d10ac76-9fbd-4a77-ab76-559dccb57e52",
   "metadata": {},
   "outputs": [
    {
     "name": "stderr",
     "output_type": "stream",
     "text": [
      "/opt/anaconda3/lib/python3.12/site-packages/langchain_community/utilities/sql_database.py:123: SAWarning: Did not recognize type 'geography' of column 'location'\n",
      "  self._metadata.reflect(\n"
     ]
    }
   ],
   "source": [
    "db = SQLDatabase.from_uri(\"postgresql://postgres:@localhost:5432/postgres?options=-csearch_path%3Dbooks_recommendation\")\n"
   ]
  },
  {
   "cell_type": "code",
   "execution_count": 21,
   "id": "98922242-09a5-4dae-af0c-16b52fe2de5a",
   "metadata": {},
   "outputs": [
    {
     "data": {
      "text/plain": [
       "['books',\n",
       " 'city',\n",
       " 'location',\n",
       " 'spatial_ref_sys',\n",
       " 'status',\n",
       " 'user_books',\n",
       " 'users']"
      ]
     },
     "execution_count": 21,
     "metadata": {},
     "output_type": "execute_result"
    }
   ],
   "source": [
    "db.get_usable_table_names()"
   ]
  },
  {
   "cell_type": "code",
   "execution_count": 18,
   "id": "a1a25935-49ec-4522-a8b8-0450032ef5b4",
   "metadata": {},
   "outputs": [],
   "source": [
    "chain = create_sql_query_chain(llm = llm, db = db)"
   ]
  },
  {
   "cell_type": "code",
   "execution_count": 37,
   "id": "40029595-3b7e-4022-9c09-35f69dbea55c",
   "metadata": {},
   "outputs": [],
   "source": [
    "database_description = (\n",
    "    \"The database contains a table named `books_recommendation.books`, which stores detailed information about books. \"\n",
    "    \"This is a PostgreSQL database, so please ensure that all queries are compatible with PostgreSQL syntax.\\n\\n\"\n",
    "    \"The `books_recommendation.books` table includes the following columns:\\n\"\n",
    "    \"- `book_hash`: A unique identifier for each book.\\n\"\n",
    "    \"- `title`: The name of the book.\\n\"\n",
    "    \"- `author`: The name of the book's author.\\n\"\n",
    "    \"- `slug`: A unique key used to generate a distinct URL for each book.\\n\\n\"\n",
    "    \"SQLQuery: Please write your query below following this format.\"\n",
    ")\"\n",
    "\n",
    "response = chain.invoke({\"question\": database_description + \" Who is the author of the book 'The Light We Lost' ?\"})"
   ]
  },
  {
   "cell_type": "code",
   "execution_count": 35,
   "id": "38d66d3e-7e50-46ce-9a1e-31a8d1766d4b",
   "metadata": {},
   "outputs": [],
   "source": [
    "import re\n",
    "def extract_sql_query(response):\n",
    "    # Define the regular expression pattern to match the SQL query\n",
    "    pattern = re.compile(r'SQLQuery:\\s*(.*)')\n",
    "    # Search for the pattern in the response\n",
    "    match = pattern.search(response)\n",
    "    if match:\n",
    "        # Extract and return the matched SQL query\n",
    "        return match.group(1).strip()\n",
    "    else:\n",
    "        return None\n",
    "sql_query = extract_sql_query(response)"
   ]
  },
  {
   "cell_type": "code",
   "execution_count": 39,
   "id": "9d2312cd-022c-4ad6-bf84-a307b79a2eb9",
   "metadata": {},
   "outputs": [],
   "source": [
    "sql_query=\"SELECT author FROM books_recommendation.books WHERE title  = \\'My Name Is Asher Lev\\';\""
   ]
  },
  {
   "cell_type": "code",
   "execution_count": 40,
   "id": "5a26ee00-0a90-4212-bc96-5ac926b6ec43",
   "metadata": {},
   "outputs": [
    {
     "name": "stdout",
     "output_type": "stream",
     "text": [
      "[('Chaim Potok',)]\n"
     ]
    }
   ],
   "source": [
    "result = db.run(sql_query)\n",
    "print(result)"
   ]
  },
  {
   "cell_type": "code",
   "execution_count": null,
   "id": "13e56271-c80c-44fe-b745-e760c76060f9",
   "metadata": {},
   "outputs": [],
   "source": []
  }
 ],
 "metadata": {
  "kernelspec": {
   "display_name": "Python 3 (ipykernel)",
   "language": "python",
   "name": "python3"
  },
  "language_info": {
   "codemirror_mode": {
    "name": "ipython",
    "version": 3
   },
   "file_extension": ".py",
   "mimetype": "text/x-python",
   "name": "python",
   "nbconvert_exporter": "python",
   "pygments_lexer": "ipython3",
   "version": "3.12.4"
  }
 },
 "nbformat": 4,
 "nbformat_minor": 5
}
